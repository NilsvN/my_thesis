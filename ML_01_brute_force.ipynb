{
 "cells": [
  {
   "cell_type": "markdown",
   "metadata": {},
   "source": [
    "# Installing Scikit Learn"
   ]
  },
  {
   "cell_type": "code",
   "execution_count": 4,
   "metadata": {
    "scrolled": true
   },
   "outputs": [
    {
     "name": "stdout",
     "output_type": "stream",
     "text": [
      "Collecting scikit-learn\n",
      "  Downloading scikit_learn-0.23.1-cp36-cp36m-win32.whl (5.9 MB)\n",
      "Requirement already up-to-date: scipy in c:\\users\\nilsvn\\appdata\\local\\programs\\python\\python36-32\\lib\\site-packages (1.4.1)\n",
      "Requirement already up-to-date: matplotlib in c:\\users\\nilsvn\\appdata\\local\\programs\\python\\python36-32\\lib\\site-packages (3.2.1)\n",
      "Requirement already satisfied, skipping upgrade: numpy>=1.13.3 in c:\\users\\nilsvn\\appdata\\local\\programs\\python\\python36-32\\lib\\site-packages (from scikit-learn) (1.18.5)\n",
      "Collecting joblib>=0.11\n",
      "  Downloading joblib-0.15.1-py3-none-any.whl (298 kB)\n",
      "Collecting threadpoolctl>=2.0.0\n",
      "  Downloading threadpoolctl-2.1.0-py3-none-any.whl (12 kB)\n",
      "Requirement already satisfied, skipping upgrade: cycler>=0.10 in c:\\users\\nilsvn\\appdata\\local\\programs\\python\\python36-32\\lib\\site-packages (from matplotlib) (0.10.0)\n",
      "Requirement already satisfied, skipping upgrade: kiwisolver>=1.0.1 in c:\\users\\nilsvn\\appdata\\local\\programs\\python\\python36-32\\lib\\site-packages (from matplotlib) (1.2.0)\n",
      "Requirement already satisfied, skipping upgrade: python-dateutil>=2.1 in c:\\users\\nilsvn\\appdata\\local\\programs\\python\\python36-32\\lib\\site-packages (from matplotlib) (2.8.1)\n",
      "Requirement already satisfied, skipping upgrade: pyparsing!=2.0.4,!=2.1.2,!=2.1.6,>=2.0.1 in c:\\users\\nilsvn\\appdata\\local\\programs\\python\\python36-32\\lib\\site-packages (from matplotlib) (2.4.7)\n",
      "Requirement already satisfied, skipping upgrade: six in c:\\users\\nilsvn\\appdata\\local\\programs\\python\\python36-32\\lib\\site-packages (from cycler>=0.10->matplotlib) (1.14.0)\n",
      "Could not build wheels for scipy, since package 'wheel' is not installed.\n",
      "Could not build wheels for matplotlib, since package 'wheel' is not installed.\n",
      "Could not build wheels for numpy, since package 'wheel' is not installed.\n",
      "Could not build wheels for cycler, since package 'wheel' is not installed.\n",
      "Could not build wheels for kiwisolver, since package 'wheel' is not installed.\n",
      "Could not build wheels for python-dateutil, since package 'wheel' is not installed.\n",
      "Could not build wheels for pyparsing, since package 'wheel' is not installed.\n",
      "Could not build wheels for six, since package 'wheel' is not installed.\n",
      "Installing collected packages: joblib, threadpoolctl, scikit-learn\n",
      "Successfully installed joblib-0.15.1 scikit-learn-0.23.1 threadpoolctl-2.1.0\n"
     ]
    },
    {
     "name": "stderr",
     "output_type": "stream",
     "text": [
      "WARNING: You are using pip version 20.1; however, version 20.1.1 is available.\n",
      "You should consider upgrading via the 'c:\\users\\nilsvn\\appdata\\local\\programs\\python\\python36-32\\python.exe -m pip install --upgrade pip' command.\n"
     ]
    }
   ],
   "source": [
    "!pip3 install -U scikit-learn scipy matplotlib"
   ]
  },
  {
   "cell_type": "code",
   "execution_count": 34,
   "metadata": {},
   "outputs": [],
   "source": [
    "import pandas as pd\n",
    "from sklearn import svm\n",
    "from sklearn import datasets\n",
    "from sklearn.model_selection import train_test_split\n",
    "from sklearn import metrics"
   ]
  },
  {
   "cell_type": "code",
   "execution_count": null,
   "metadata": {},
   "outputs": [],
   "source": [
    "df = pd.read_excel (r'Path where the Excel file is stored\\File name.xlsx')\n",
    "print (df)"
   ]
  },
  {
   "cell_type": "markdown",
   "metadata": {},
   "source": [
    "import generic data, import attack data, merge into one (randomly) with corresponding label array [0,0,1,0...]"
   ]
  },
  {
   "cell_type": "markdown",
   "metadata": {},
   "source": [
    "Eventually when testing multiclass data (4 labels, normal + 3 attack types) will I be able to change the threshold?"
   ]
  },
  {
   "cell_type": "markdown",
   "metadata": {},
   "source": [
    ".data = [x][y]"
   ]
  },
  {
   "cell_type": "markdown",
   "metadata": {},
   "source": [
    ".target = [x] (zeroes and ones if binary, corr. with data)"
   ]
  },
  {
   "cell_type": "markdown",
   "metadata": {},
   "source": [
    ".feature_names = [y] (time, user, etc)"
   ]
  },
  {
   "cell_type": "markdown",
   "metadata": {},
   "source": [
    ".target_names = [2] (if binary, normal/suspicious) ['normal', 'suspicious']"
   ]
  },
  {
   "cell_type": "code",
   "execution_count": 35,
   "metadata": {},
   "outputs": [],
   "source": [
    "iris= datasets.load_iris()"
   ]
  },
  {
   "cell_type": "code",
   "execution_count": 36,
   "metadata": {},
   "outputs": [],
   "source": [
    "X = iris.data[:,2]"
   ]
  },
  {
   "cell_type": "code",
   "execution_count": 37,
   "metadata": {},
   "outputs": [],
   "source": [
    "y = iris.target"
   ]
  },
  {
   "cell_type": "code",
   "execution_count": 38,
   "metadata": {},
   "outputs": [],
   "source": [
    "def SVM(): #todo: threshold as param\n",
    "    global X\n",
    "    global y\n",
    "    X_train, X_test, y_train, y_test= train_test_split(X, y, test_size=0.2, random_state=4)\n",
    "    X_train_mod = X_train.reshape(-1,1)\n",
    "    X_test_mod = X_test.reshape(-1,1)\n",
    "    y_train_mod = y_train.reshape(-1,1)\n",
    "    y_test_mod = y_test.reshape(-1,1)\n",
    "    model= svm.SVC(kernel='linear')\n",
    "    model.fit(X_train_mod, y_train_mod)\n",
    "    y_pred = model.predict(X_test_mod)\n",
    "    return y_test_mod, y_pred"
   ]
  },
  {
   "cell_type": "code",
   "execution_count": 40,
   "metadata": {},
   "outputs": [
    {
     "name": "stdout",
     "output_type": "stream",
     "text": [
      "[[16  0  0]\n",
      " [ 0  4  1]\n",
      " [ 0  0  9]]\n",
      "              precision    recall  f1-score   support\n",
      "\n",
      "           0      1.000     1.000     1.000        16\n",
      "           1      1.000     0.800     0.889         5\n",
      "           2      0.900     1.000     0.947         9\n",
      "\n",
      "    accuracy                          0.967        30\n",
      "   macro avg      0.967     0.933     0.945        30\n",
      "weighted avg      0.970     0.967     0.966        30\n",
      "\n"
     ]
    },
    {
     "name": "stderr",
     "output_type": "stream",
     "text": [
      "c:\\users\\nilsvn\\appdata\\local\\programs\\python\\python36-32\\lib\\site-packages\\sklearn\\utils\\validation.py:73: DataConversionWarning: A column-vector y was passed when a 1d array was expected. Please change the shape of y to (n_samples, ), for example using ravel().\n",
      "  return f(**kwargs)\n"
     ]
    }
   ],
   "source": [
    "y_test, y_pred = SVM()\n",
    "print(metrics.confusion_matrix(y_test, y_pred))\n",
    "print(metrics.classification_report(y_test, y_pred, digits=3))"
   ]
  }
 ],
 "metadata": {
  "kernelspec": {
   "display_name": "Python 3",
   "language": "python",
   "name": "python3"
  },
  "language_info": {
   "codemirror_mode": {
    "name": "ipython",
    "version": 3
   },
   "file_extension": ".py",
   "mimetype": "text/x-python",
   "name": "python",
   "nbconvert_exporter": "python",
   "pygments_lexer": "ipython3",
   "version": "3.6.2"
  }
 },
 "nbformat": 4,
 "nbformat_minor": 4
}
