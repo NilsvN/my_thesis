{
 "cells": [
  {
   "cell_type": "markdown",
   "metadata": {},
   "source": [
    "# Installing Scikit Learn"
   ]
  },
  {
   "cell_type": "code",
   "execution_count": 4,
   "metadata": {
    "scrolled": true
   },
   "outputs": [
    {
     "name": "stdout",
     "output_type": "stream",
     "text": [
      "Collecting scikit-learn\n",
      "  Downloading scikit_learn-0.23.1-cp36-cp36m-win32.whl (5.9 MB)\n",
      "Requirement already up-to-date: scipy in c:\\users\\nilsvn\\appdata\\local\\programs\\python\\python36-32\\lib\\site-packages (1.4.1)\n",
      "Requirement already up-to-date: matplotlib in c:\\users\\nilsvn\\appdata\\local\\programs\\python\\python36-32\\lib\\site-packages (3.2.1)\n",
      "Requirement already satisfied, skipping upgrade: numpy>=1.13.3 in c:\\users\\nilsvn\\appdata\\local\\programs\\python\\python36-32\\lib\\site-packages (from scikit-learn) (1.18.5)\n",
      "Collecting joblib>=0.11\n",
      "  Downloading joblib-0.15.1-py3-none-any.whl (298 kB)\n",
      "Collecting threadpoolctl>=2.0.0\n",
      "  Downloading threadpoolctl-2.1.0-py3-none-any.whl (12 kB)\n",
      "Requirement already satisfied, skipping upgrade: cycler>=0.10 in c:\\users\\nilsvn\\appdata\\local\\programs\\python\\python36-32\\lib\\site-packages (from matplotlib) (0.10.0)\n",
      "Requirement already satisfied, skipping upgrade: kiwisolver>=1.0.1 in c:\\users\\nilsvn\\appdata\\local\\programs\\python\\python36-32\\lib\\site-packages (from matplotlib) (1.2.0)\n",
      "Requirement already satisfied, skipping upgrade: python-dateutil>=2.1 in c:\\users\\nilsvn\\appdata\\local\\programs\\python\\python36-32\\lib\\site-packages (from matplotlib) (2.8.1)\n",
      "Requirement already satisfied, skipping upgrade: pyparsing!=2.0.4,!=2.1.2,!=2.1.6,>=2.0.1 in c:\\users\\nilsvn\\appdata\\local\\programs\\python\\python36-32\\lib\\site-packages (from matplotlib) (2.4.7)\n",
      "Requirement already satisfied, skipping upgrade: six in c:\\users\\nilsvn\\appdata\\local\\programs\\python\\python36-32\\lib\\site-packages (from cycler>=0.10->matplotlib) (1.14.0)\n",
      "Could not build wheels for scipy, since package 'wheel' is not installed.\n",
      "Could not build wheels for matplotlib, since package 'wheel' is not installed.\n",
      "Could not build wheels for numpy, since package 'wheel' is not installed.\n",
      "Could not build wheels for cycler, since package 'wheel' is not installed.\n",
      "Could not build wheels for kiwisolver, since package 'wheel' is not installed.\n",
      "Could not build wheels for python-dateutil, since package 'wheel' is not installed.\n",
      "Could not build wheels for pyparsing, since package 'wheel' is not installed.\n",
      "Could not build wheels for six, since package 'wheel' is not installed.\n",
      "Installing collected packages: joblib, threadpoolctl, scikit-learn\n",
      "Successfully installed joblib-0.15.1 scikit-learn-0.23.1 threadpoolctl-2.1.0\n"
     ]
    },
    {
     "name": "stderr",
     "output_type": "stream",
     "text": [
      "WARNING: You are using pip version 20.1; however, version 20.1.1 is available.\n",
      "You should consider upgrading via the 'c:\\users\\nilsvn\\appdata\\local\\programs\\python\\python36-32\\python.exe -m pip install --upgrade pip' command.\n"
     ]
    }
   ],
   "source": [
    "!pip3 install -U scikit-learn scipy matplotlib"
   ]
  },
  {
   "cell_type": "code",
   "execution_count": 100,
   "metadata": {},
   "outputs": [],
   "source": [
    "import pandas as pd\n",
    "import numpy as np\n",
    "from sklearn import svm\n",
    "from sklearn import naive_bayes\n",
    "from sklearn.neighbors import KNeighborsClassifier\n",
    "\n",
    "from sklearn import datasets\n",
    "from sklearn.model_selection import train_test_split\n",
    "from sklearn import metrics\n",
    "import time\n",
    "import matplotlib.pyplot as plt\n",
    "import warnings\n",
    "warnings.filterwarnings('ignore')\n",
    "\n",
    "from sklearn.compose import ColumnTransformer\n",
    "from sklearn.preprocessing import StandardScaler\n"
   ]
  },
  {
   "cell_type": "code",
   "execution_count": 101,
   "metadata": {},
   "outputs": [],
   "source": [
    "def get_df(normal_path, attack_path_1, attack_path_2):\n",
    "    df_normal = pd.read_csv(normal_path)\n",
    "    df_attack_1 = pd.read_csv(attack_path_1)\n",
    "    df_attack_2 = pd.read_csv(attack_path_2)\n",
    "    \n",
    "    df_normal['Class'] = 0 #create new 'Class' column containing only 0's.\n",
    "    df_attack_1['Class'] = 1 #create new 'Class' column containing only 1's.\n",
    "    df_attack_2['Class'] = 1 #create new 'Class' column containing only 1's.\n",
    "    \n",
    "    # feel free to change the amount depending on the amount of RAM you have (max 16,906).\n",
    "    df_normal_1 = df_normal.head(5000)\n",
    "    df_normal_2 = df_normal.tail(5000)\n",
    "    \n",
    "    df_train = pd.concat([df_attack_1, df_normal_1], ignore_index=True)\n",
    "    df_test = pd.concat([df_attack_2, df_normal_2], ignore_index=True)\n",
    "    return df_train, df_test"
   ]
  },
  {
   "cell_type": "code",
   "execution_count": 102,
   "metadata": {},
   "outputs": [],
   "source": [
    "def get_X_y(df):\n",
    "    X = df.drop('Class', axis=1)\n",
    "    y = df['Class']\n",
    "    return X, y"
   ]
  },
  {
   "cell_type": "code",
   "execution_count": 103,
   "metadata": {},
   "outputs": [],
   "source": [
    "def datetime_string_to_epoch(str):\n",
    "    format = '%Y-%m-%d %H:%M:%S'\n",
    "    if str[10] == 'T':\n",
    "        format = '%Y-%m-%dT%H:%M:%S'\n",
    "    t = time.strptime(str[:19], format)\n",
    "    return time.mktime(t)"
   ]
  },
  {
   "cell_type": "code",
   "execution_count": 104,
   "metadata": {
    "scrolled": false
   },
   "outputs": [],
   "source": [
    "def preprocess_data(df):\n",
    "    # filter to keep most relevant columns\n",
    "    df = df[['TimeGenerated', 'ConditionalAccessStatus', 'Class']]\n",
    "    \n",
    "    # convert datetime strings to epoch\n",
    "    df['TimeGenerated'] = df['TimeGenerated'].map(datetime_string_to_epoch)\n",
    "    \n",
    "    # split Pandas DataFrame into X (data) and y (corresponding class labels)\n",
    "    X, y = get_X_y(df)\n",
    "    \n",
    "    # One-Hot Encoding for the nominal categorical variables\n",
    "    X = pd.get_dummies(X[['TimeGenerated', 'ConditionalAccessStatus']])\n",
    "    \n",
    "    # Standardization of values\n",
    "    std = StandardScaler()\n",
    "    X['TimeGenerated'] = std.fit_transform(X[['TimeGenerated']])\n",
    "    \n",
    "    return X, y"
   ]
  },
  {
   "cell_type": "code",
   "execution_count": 105,
   "metadata": {},
   "outputs": [],
   "source": [
    "def thres_from_to_qty(fr, to, qty):\n",
    "    qty -= 1\n",
    "    res = [fr]\n",
    "    diff = to - fr\n",
    "    for i in range(1, qty + 1):\n",
    "        res.append(fr + (i * diff) / qty)\n",
    "    return res\n",
    "        \n",
    "    "
   ]
  },
  {
   "cell_type": "code",
   "execution_count": 106,
   "metadata": {},
   "outputs": [],
   "source": [
    "def plot_metrics(thres_list, acc_list, prc_list, rec_list, thres_from, thres_to):\n",
    "    plt.plot(thres_list, acc_list)\n",
    "    plt.plot(thres_list, prc_list)\n",
    "    plt.plot(thres_list, rec_list)\n",
    "    plt.axis([thres_from, thres_to, 0, 1])\n",
    "    plt.legend(['ACC', 'PRC', 'REC'], loc='upper right')\n",
    "    plt.show()"
   ]
  },
  {
   "cell_type": "code",
   "execution_count": 107,
   "metadata": {},
   "outputs": [],
   "source": [
    "# change these file paths when reproducing results\n",
    "# files are available on my github: https://github.com/NilsvN/my_thesis\n",
    "NORMAL_PATH = \"C:/Users/NilsvN/.jupyter/home/my_thesis/datasets/30days_anonymized_sigin_logs_column_corrected.csv\"\n",
    "ATTACK_PATH_1 = \"C:/Users/NilsvN/.jupyter/home/my_thesis/datasets/brute_force_1.csv\"\n",
    "ATTACK_PATH_2 = \"C:/Users/NilsvN/.jupyter/home/my_thesis/datasets/brute_force_2.csv\""
   ]
  },
  {
   "cell_type": "code",
   "execution_count": 108,
   "metadata": {},
   "outputs": [],
   "source": [
    "# create df's from csv data\n",
    "df_train, df_test = get_df(NORMAL_PATH, ATTACK_PATH_1, ATTACK_PATH_2)\n",
    "X_train, y_train = preprocess_data(df_train)\n",
    "X_test, y_test = preprocess_data(df_test)"
   ]
  },
  {
   "cell_type": "markdown",
   "metadata": {},
   "source": [
    "# SVM:"
   ]
  },
  {
   "cell_type": "code",
   "execution_count": 109,
   "metadata": {},
   "outputs": [],
   "source": [
    "def SVM(X_train, X_test, y_train, y_test, threshold):\n",
    "    model = svm.SVC(kernel='linear', probability=True)\n",
    "    model.fit(X_train, y_train)\n",
    "    y_pred = (model.predict_proba(X_test)[:,1] >= threshold).astype(bool)\n",
    "    \n",
    "    #print(metrics.confusion_matrix(y_test, y_pred))\n",
    "    #print(metrics.classification_report(y_test, y_pred, digits=3))\n",
    "    \n",
    "    ACC = metrics.accuracy_score(y_test, y_pred)\n",
    "    PRC = metrics.precision_score(y_test, y_pred) # when multiclass: average=None\n",
    "    REC = metrics.recall_score(y_test, y_pred) # when multiclass: average=None\n",
    "    return ACC, PRC, REC"
   ]
  },
  {
   "cell_type": "code",
   "execution_count": 110,
   "metadata": {},
   "outputs": [
    {
     "data": {
      "image/png": "[encoded data removed]",
      "text/plain": [
       "<Figure size 432x288 with 1 Axes>"
      ]
     },
     "metadata": {
      "needs_background": "light"
     },
     "output_type": "display_data"
    }
   ],
   "source": [
    "# feel free to tweak as necessary\n",
    "thres_from = 0\n",
    "thres_to = 0.004\n",
    "thres_qty = 50\n",
    "\n",
    "# preparing data for plotting\n",
    "thres_list = thres_from_to_qty(thres_from, thres_to, thres_qty)\n",
    "acc_list = []\n",
    "prc_list = []\n",
    "rec_list = []\n",
    "\n",
    "for thres in thres_list:\n",
    "    acc, prc, rec = SVM(X_train, X_test, y_train, y_test, thres)\n",
    "    acc_list.append(acc)\n",
    "    prc_list.append(prc)\n",
    "    rec_list.append(rec)\n",
    "plot_metrics(thres_list, acc_list, prc_list, rec_list, thres_from, thres_to)"
   ]
  },
  {
   "cell_type": "markdown",
   "metadata": {},
   "source": [
    "# Naive Bayes:"
   ]
  },
  {
   "cell_type": "code",
   "execution_count": 111,
   "metadata": {},
   "outputs": [],
   "source": [
    "def naive_bayes_gaussian(X_train, X_test, y_train, y_test, threshold):\n",
    "    model = naive_bayes.GaussianNB()\n",
    "    model.fit(X_train, y_train)\n",
    "    y_pred = (model.predict_proba(X_test)[:,1] >= threshold).astype(bool)\n",
    "    #y_pred = model.predict(X_test)\n",
    "    \n",
    "    # print(metrics.confusion_matrix(y_test, y_pred))\n",
    "    # print(metrics.classification_report(y_test, y_pred, digits=3))\n",
    "    \n",
    "    ACC = metrics.accuracy_score(y_test, y_pred)\n",
    "    PRC = metrics.precision_score(y_test, y_pred) # when multiclass: average=None\n",
    "    REC = metrics.recall_score(y_test, y_pred) # when multiclass: average=None\n",
    "    return ACC, PRC, REC\n",
    "    "
   ]
  },
  {
   "cell_type": "code",
   "execution_count": 113,
   "metadata": {},
   "outputs": [
    {
     "data": {
      "image/png": "[encoded data removed]",
      "text/plain": [
       "<Figure size 432x288 with 1 Axes>"
      ]
     },
     "metadata": {
      "needs_background": "light"
     },
     "output_type": "display_data"
    }
   ],
   "source": [
    "# feel free to tweak as necessary\n",
    "thres_from = 0\n",
    "thres_to = 1\n",
    "thres_qty = 100\n",
    "\n",
    "# preparing data for plotting\n",
    "thres_list = thres_from_to_qty(thres_from, thres_to, thres_qty)\n",
    "acc_list = []\n",
    "prc_list = []\n",
    "rec_list = []\n",
    "\n",
    "for thres in thres_list:\n",
    "    acc, prc, rec = naive_bayes_gaussian(X_train, X_test, y_train, y_test, thres)\n",
    "    acc_list.append(acc)\n",
    "    prc_list.append(prc)\n",
    "    rec_list.append(rec)\n",
    "plot_metrics(thres_list, acc_list, prc_list, rec_list, thres_from, thres_to)"
   ]
  },
  {
   "cell_type": "markdown",
   "metadata": {},
   "source": [
    "# K-Nearest Neighbours"
   ]
  },
  {
   "cell_type": "code",
   "execution_count": 121,
   "metadata": {},
   "outputs": [],
   "source": [
    "def k_nearest_neighbours(X_train, X_test, y_train, y_test, neighbours):\n",
    "    model = KNeighborsClassifier(neighbours)\n",
    "    model.fit(X_train, y_train)\n",
    "    y_pred = model.predict(X_test)\n",
    "    \n",
    "    # print(metrics.confusion_matrix(y_test, y_pred))\n",
    "    # print(metrics.classification_report(y_test, y_pred, digits=3))\n",
    "    \n",
    "    ACC = metrics.accuracy_score(y_test, y_pred)\n",
    "    PRC = metrics.precision_score(y_test, y_pred) # when multiclass: average=None\n",
    "    REC = metrics.recall_score(y_test, y_pred) # when multiclass: average=None\n",
    "    return ACC, PRC, REC"
   ]
  },
  {
   "cell_type": "code",
   "execution_count": 122,
   "metadata": {},
   "outputs": [
    {
     "data": {
      "image/png": "[encoded data removed]",
      "text/plain": [
       "<Figure size 432x288 with 1 Axes>"
      ]
     },
     "metadata": {
      "needs_background": "light"
     },
     "output_type": "display_data"
    }
   ],
   "source": [
    "# feel free to tweak as necessary\n",
    "thres_from = 1\n",
    "thres_to = 20\n",
    "thres_qty = 20\n",
    "\n",
    "# preparing data for plotting\n",
    "thres_list = thres_from_to_qty(thres_from, thres_to, thres_qty)\n",
    "acc_list = []\n",
    "prc_list = []\n",
    "rec_list = []\n",
    "\n",
    "for thres in thres_list:\n",
    "    thres = int(thres)\n",
    "    acc, prc, rec = k_nearest_neighbours(X_train, X_test, y_train, y_test, thres)\n",
    "    acc_list.append(acc)\n",
    "    prc_list.append(prc)\n",
    "    rec_list.append(rec)\n",
    "plot_metrics(thres_list, acc_list, prc_list, rec_list, thres_from, thres_to)"
   ]
  },
  {
   "cell_type": "code",
   "execution_count": null,
   "metadata": {},
   "outputs": [],
   "source": []
  }
 ],
 "metadata": {
  "kernelspec": {
   "display_name": "Python 3",
   "language": "python",
   "name": "python3"
  }
 },
 "nbformat": 4,
 "nbformat_minor": 4
}
